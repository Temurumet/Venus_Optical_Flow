{
 "cells": [
  {
   "cell_type": "code",
   "execution_count": 2,
   "id": "d826e60b-ad5a-4549-923d-68e07a528251",
   "metadata": {
    "execution": {
     "iopub.execute_input": "2024-11-22T22:23:33.320238Z",
     "iopub.status.busy": "2024-11-22T22:23:33.319206Z",
     "iopub.status.idle": "2024-11-22T22:23:33.339379Z",
     "shell.execute_reply": "2024-11-22T22:23:33.338600Z",
     "shell.execute_reply.started": "2024-11-22T22:23:33.320190Z"
    },
    "tags": []
   },
   "outputs": [
    {
     "name": "stdout",
     "output_type": "stream",
     "text": [
      "Пропущены изображения для потока pair_20180331_220444_000445.flo\n",
      "Пропущены изображения для потока pair_20180404_224445_004445.flo\n",
      "Пропущены изображения для потока pair_20180405_224444_004446.flo\n",
      "Пропущены изображения для потока pair_20180408_230446_010445.flo\n",
      "Пропущены изображения для потока pair_20180409_230444_010447.flo\n",
      "Пропущены изображения для потока pair_20180410_220446_000444.flo\n",
      "Пропущены изображения для потока pair_20180412_220443_000446.flo\n",
      "Пропущены изображения для потока pair_20180415_190446_210447.flo\n",
      "Найдено пар: 91\n",
      "{'img1': 'r0077-0078_png/small/uvi_20180331_080446_365_l3b_v10.png', 'img2': 'r0077-0078_png/small/uvi_20180331_100445_365_l3b_v10.png', 'flow': 'GT_flow/flows/pair_20180331_080446_100445.flo', 'mask': 'GT_flow/masks/pair_20180331_080446_100445.npy'}\n",
      "{'img1': 'r0077-0078_png/small/uvi_20180331_100445_365_l3b_v10.png', 'img2': 'r0077-0078_png/small/uvi_20180331_120443_365_l3b_v10.png', 'flow': 'GT_flow/flows/pair_20180331_100445_120443.flo', 'mask': 'GT_flow/masks/pair_20180331_100445_120443.npy'}\n",
      "{'img1': 'r0077-0078_png/small/uvi_20180331_140445_365_l3b_v10.png', 'img2': 'r0077-0078_png/small/uvi_20180331_160444_365_l3b_v10.png', 'flow': 'GT_flow/flows/pair_20180331_140445_160444.flo', 'mask': 'GT_flow/masks/pair_20180331_140445_160444.npy'}\n",
      "{'img1': 'r0077-0078_png/small/uvi_20180331_160444_365_l3b_v10.png', 'img2': 'r0077-0078_png/small/uvi_20180331_180445_365_l3b_v10.png', 'flow': 'GT_flow/flows/pair_20180331_160444_180445.flo', 'mask': 'GT_flow/masks/pair_20180331_160444_180445.npy'}\n",
      "{'img1': 'r0077-0078_png/small/uvi_20180331_180445_365_l3b_v10.png', 'img2': 'r0077-0078_png/small/uvi_20180331_200444_365_l3b_v10.png', 'flow': 'GT_flow/flows/pair_20180331_180445_200444.flo', 'mask': 'GT_flow/masks/pair_20180331_180445_200444.npy'}\n"
     ]
    }
   ],
   "source": [
    "import os\n",
    "\n",
    "def match_files(images_folder, flows_folder, masks_folder):\n",
    "    \"\"\"\n",
    "    Сопоставляет пары изображений с потоками и масками.\n",
    "    \n",
    "    Parameters:\n",
    "    - images_folder: str, путь к папке с изображениями.\n",
    "    - flows_folder: str, путь к папке с потоками.\n",
    "    - masks_folder: str, путь к папке с масками.\n",
    "\n",
    "    Returns:\n",
    "    - matched_files: list of dict, список с информацией о найденных парах.\n",
    "    \"\"\"\n",
    "    matched_files = []\n",
    "    \n",
    "    # Список всех изображений\n",
    "    image_files = sorted(os.listdir(images_folder))\n",
    "    image_dict = {f.split('_')[1] + '_' + f.split('_')[2]: f for f in image_files}  # Создаем индекс по date_time\n",
    "    # print(image_dict)\n",
    "    # Список всех потоков\n",
    "    flow_files = sorted(os.listdir(flows_folder))\n",
    "    \n",
    "    for flow_file in flow_files:\n",
    "        if not flow_file.endswith('.flo'):\n",
    "            continue\n",
    "        \n",
    "        # Извлекаем информацию из имени потока\n",
    "        _, date, time_1, time_2 = flow_file.replace('.flo', '').split('_')\n",
    "        # print(_, date, time_1, time_2)\n",
    "        # Ищем соответствующие изображения\n",
    "        img1_name = image_dict.get(f\"{date}_{time_1}\")\n",
    "        img2_name = image_dict.get(f\"{date}_{time_2}\")\n",
    "        # print(img1_name, img2_name)\n",
    "        \n",
    "        if not img1_name or not img2_name:\n",
    "            print(f\"Пропущены изображения для потока {flow_file}\")\n",
    "            continue\n",
    "        \n",
    "        # Проверяем наличие маски\n",
    "        mask_file = flow_file.replace('.flo', '.npy')  # Имя маски совпадает с именем потока\n",
    "        if not os.path.exists(os.path.join(masks_folder, mask_file)):\n",
    "            print(f\"Пропущена маска для потока {flow_file}\")\n",
    "            continue\n",
    "        \n",
    "        # Добавляем в список\n",
    "        matched_files.append({\n",
    "            'img1': os.path.join(images_folder, img1_name),\n",
    "            'img2': os.path.join(images_folder, img2_name),\n",
    "            'flow': os.path.join(flows_folder, flow_file),\n",
    "            'mask': os.path.join(masks_folder, mask_file)\n",
    "        })\n",
    "    \n",
    "    return matched_files\n",
    "\n",
    "# Папки с данными\n",
    "images_folder = \"r0077-0078_png/small\"\n",
    "flows_folder = \"GT_flow/flows\"\n",
    "masks_folder = \"GT_flow/masks\"\n",
    "\n",
    "# Сопоставляем файлы\n",
    "matched_files = match_files(images_folder, flows_folder, masks_folder)\n",
    "\n",
    "# Проверяем результат\n",
    "print(f\"Найдено пар: {len(matched_files)}\")\n",
    "for match in matched_files[:5]:  # Выводим первые 5 для проверки\n",
    "    print(match)\n"
   ]
  },
  {
   "cell_type": "code",
   "execution_count": 3,
   "id": "ca4cf9e0-8055-4570-9114-d9f3958ec9eb",
   "metadata": {
    "execution": {
     "iopub.execute_input": "2024-11-22T22:23:48.193208Z",
     "iopub.status.busy": "2024-11-22T22:23:48.191957Z",
     "iopub.status.idle": "2024-11-22T22:23:48.211595Z",
     "shell.execute_reply": "2024-11-22T22:23:48.210898Z",
     "shell.execute_reply.started": "2024-11-22T22:23:48.193165Z"
    },
    "tags": []
   },
   "outputs": [],
   "source": [
    "import json\n",
    "\n",
    "with open('matched_files.json', 'w') as f:\n",
    "    json.dump(matched_files, f)\n"
   ]
  }
 ],
 "metadata": {
  "kernelspec": {
   "display_name": "DataSphere Kernel",
   "language": "python",
   "name": "python3"
  },
  "language_info": {
   "codemirror_mode": {
    "name": "ipython",
    "version": 3
   },
   "file_extension": ".py",
   "mimetype": "text/x-python",
   "name": "python",
   "nbconvert_exporter": "python",
   "pygments_lexer": "ipython3",
   "version": "3.10.12"
  }
 },
 "nbformat": 4,
 "nbformat_minor": 5
}
